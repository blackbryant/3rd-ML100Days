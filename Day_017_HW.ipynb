{
  "cells": [
    {
      "metadata": {},
      "cell_type": "markdown",
      "source": "# 作業\n- 新增一個欄位 `customized_age_grp`，把 `age` 分為 (0, 10], (10, 20], (20, 30], (30, 50], (50, 100] 這五組，\n'(' 表示不包含, ']' 表示包含  \n- Hints: 執行 ??pd.cut()，了解提供其中 bins 這個參數的使用方式"
    },
    {
      "metadata": {},
      "cell_type": "markdown",
      "source": "# [作業目標]\n- 請同學試著查詢 pandas.cut 這個函數還有哪些參數, 藉由改動參數以達成目標\n- 藉由查詢與改動參數的過程, 熟悉查詢函數的方法與理解參數性質, 並了解數值的離散化的調整工具"
    },
    {
      "metadata": {},
      "cell_type": "markdown",
      "source": "# [作業重點]\n- 仿照 In[3], In[4] 的語法, 並設定 pd.cut 的參數以指定間距"
    },
    {
      "metadata": {
        "trusted": true
      },
      "cell_type": "code",
      "source": "# 載入套件\nimport os\nimport numpy as np\nimport pandas as pd\n\nimport matplotlib.pyplot as plt\n%matplotlib inline",
      "execution_count": 1,
      "outputs": []
    },
    {
      "metadata": {
        "trusted": true
      },
      "cell_type": "code",
      "source": "# 初始設定 Ages 的資料\nages = pd.DataFrame({\"age\": [18,22,25,27,7,21,23,37,30,61,45,41,9,18,80,100]})",
      "execution_count": 3,
      "outputs": []
    },
    {
      "metadata": {},
      "cell_type": "markdown",
      "source": "#### 等寬劃分"
    },
    {
      "metadata": {
        "trusted": true
      },
      "cell_type": "code",
      "source": "# 新增欄位 \"equal_width_age\", 對年齡做等寬劃分\nages[\"equal_width_age\"] = pd.cut(ages[\"age\"], 4)",
      "execution_count": 4,
      "outputs": []
    },
    {
      "metadata": {
        "trusted": true
      },
      "cell_type": "code",
      "source": "# 觀察等寬劃分下, 每個種組距各出現幾次\nages[\"equal_width_age\"].value_counts() # 每個 bin 的值的範圍大小都是一樣的",
      "execution_count": 6,
      "outputs": [
        {
          "output_type": "execute_result",
          "execution_count": 6,
          "data": {
            "text/plain": "(6.907, 30.25]    10\n(30.25, 53.5]      3\n(76.75, 100.0]     2\n(53.5, 76.75]      1\nName: equal_width_age, dtype: int64"
          },
          "metadata": {}
        }
      ]
    },
    {
      "metadata": {},
      "cell_type": "markdown",
      "source": "#### 等頻劃分"
    },
    {
      "metadata": {
        "trusted": true
      },
      "cell_type": "code",
      "source": "# 新增欄位 \"equal_freq_age\", 對年齡做等頻劃分\nages[\"equal_freq_age\"] = pd.qcut(ages[\"age\"], 4)",
      "execution_count": 8,
      "outputs": []
    },
    {
      "metadata": {
        "trusted": false
      },
      "cell_type": "code",
      "source": "# 觀察等頻劃分下, 每個種組距各出現幾次\nages[\"equal_freq_age\"].value_counts() # 每個 bin 的資料筆數是一樣的",
      "execution_count": 6,
      "outputs": [
        {
          "data": {
            "text/plain": "(42.0, 100.0]     4\n(26.0, 42.0]      4\n(20.25, 26.0]     4\n(6.999, 20.25]    4\nName: equal_freq_age, dtype: int64"
          },
          "execution_count": 6,
          "metadata": {},
          "output_type": "execute_result"
        }
      ]
    },
    {
      "metadata": {
        "trusted": true
      },
      "cell_type": "code",
      "source": "#- 新增一個欄位 `customized_age_grp`，把 `age` 分為 (0, 10], (10, 20], (20, 30], (30, 50], (50, 100] 這五組，\n#'(' 表示不包含, ']' 表示包含  \n#- Hints: 執行 ??pd.cut()，了解提供其中 bins 這個參數的使用方式 \nbins = [0, 10, 20, 30, 50,100]\nages[\"customized_age_grp\"] = pd.cut(ages[\"age\"],bins)\nages[\"customized_age_grp\"].value_counts()",
      "execution_count": 10,
      "outputs": [
        {
          "output_type": "execute_result",
          "execution_count": 10,
          "data": {
            "text/plain": "(20, 30]     6\n(50, 100]    3\n(30, 50]     3\n(10, 20]     2\n(0, 10]      2\nName: customized_age_grp, dtype: int64"
          },
          "metadata": {}
        }
      ]
    },
    {
      "metadata": {
        "trusted": true
      },
      "cell_type": "code",
      "source": "",
      "execution_count": null,
      "outputs": []
    }
  ],
  "metadata": {
    "kernelspec": {
      "name": "python36",
      "display_name": "Python 3.6",
      "language": "python"
    },
    "language_info": {
      "mimetype": "text/x-python",
      "nbconvert_exporter": "python",
      "name": "python",
      "pygments_lexer": "ipython3",
      "version": "3.6.6",
      "file_extension": ".py",
      "codemirror_mode": {
        "version": 3,
        "name": "ipython"
      }
    }
  },
  "nbformat": 4,
  "nbformat_minor": 2
}
